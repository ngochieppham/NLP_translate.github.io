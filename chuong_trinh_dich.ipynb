{
 "cells": [
  {
   "cell_type": "code",
   "execution_count": 8,
   "id": "8c2ffe97",
   "metadata": {},
   "outputs": [],
   "source": [
    "from tkinter import *\n",
    "import googletrans\n",
    "from googletrans import Translator\n",
    "\n",
    "window =Tk()\n",
    "window.title  (\"google dich\")\n",
    "window.geometry(\"400x500\")\n",
    "window.resizable(False,False)\n",
    "\n",
    "def clear():\n",
    "    text_input.delete(1.0,END)\n",
    "    text_output.delete(1.0,END)\n",
    "    pass\n",
    "\n",
    "def trans():\n",
    "    src_lang = \"en\"\n",
    "    dest_lang = \"vi\"\n",
    "    if (x.get())==0:\n",
    "        src_lang = \"en\"\n",
    "        dest_lang = \"vi\"\n",
    "    elif (x.get())==1:\n",
    "        src_lang = \"vi\"\n",
    "        dest_lang = \"en\"\n",
    "    else:\n",
    "        pass\n",
    "        \n",
    "    in_put=text_input.get(1.0,END)\n",
    "    tran_slate=Translator()\n",
    "    out_put=tran_slate.translate(text = in_put, src = src_lang, dest= dest_lang)\n",
    "    text_output.insert(END, out_put.text)\n",
    "\n",
    "lpl = Label(window, text = \"google dich\", font = \"arial 20\", fg = \"black\")\n",
    "lpl.place(x=90,y=20)\n",
    "\n",
    "frame_input = LabelFrame(window, text =\"Input\")\n",
    "frame_input.place(x=40,y=70)\n",
    "\n",
    "text_input = Text(frame_input, width = 35, height = 6, font=\"arial 12\")\n",
    "text_input.pack()\n",
    "\n",
    "frame_output = LabelFrame(window, text =\"Output\")\n",
    "frame_output.place(x=40,y=200)\n",
    "\n",
    "text_output = Text(frame_output, width = 35, height = 6, font=\"arial 12\")\n",
    "text_output.pack()\n",
    "\n",
    "frame_option = LabelFrame(window, text = \"Options\")\n",
    "frame_option.place(x=40, y=350)\n",
    "\n",
    "lang = [\"English to Vietnamese\", \"Vietnamese to English\"]\n",
    "x=IntVar()\n",
    "x.set(\"0\")\n",
    "\n",
    "for index in range(len(lang)):\n",
    "    radiobutton = Radiobutton(frame_option, text = lang[index], variable=x, value=index, font=\"arial 10\")\n",
    "    radiobutton.pack(anchor = W)\n",
    "\n",
    "btn_trans = Button(window, text=\"Translate\", width=15, command = trans)\n",
    "btn_trans.place(x=247,y=358)\n",
    "\n",
    "btn_clear = Button(window, text = \"Clear\", width=15, command = clear)\n",
    "btn_clear.place(x=249, y=395)\n",
    "\n",
    "    \n",
    "    \n",
    "window.mainloop()"
   ]
  },
  {
   "cell_type": "code",
   "execution_count": 10,
   "id": "5690d147",
   "metadata": {},
   "outputs": [
    {
     "ename": "SyntaxError",
     "evalue": "invalid syntax (<ipython-input-10-f188d5ac1197>, line 1)",
     "output_type": "error",
     "traceback": [
      "\u001b[1;36m  File \u001b[1;32m\"<ipython-input-10-f188d5ac1197>\"\u001b[1;36m, line \u001b[1;32m1\u001b[0m\n\u001b[1;33m    git init\u001b[0m\n\u001b[1;37m        ^\u001b[0m\n\u001b[1;31mSyntaxError\u001b[0m\u001b[1;31m:\u001b[0m invalid syntax\n"
     ]
    }
   ],
   "source": [
    "git init"
   ]
  },
  {
   "cell_type": "code",
   "execution_count": null,
   "id": "c44f31c1",
   "metadata": {},
   "outputs": [],
   "source": []
  }
 ],
 "metadata": {
  "kernelspec": {
   "display_name": "Python 3",
   "language": "python",
   "name": "python3"
  },
  "language_info": {
   "codemirror_mode": {
    "name": "ipython",
    "version": 3
   },
   "file_extension": ".py",
   "mimetype": "text/x-python",
   "name": "python",
   "nbconvert_exporter": "python",
   "pygments_lexer": "ipython3",
   "version": "3.8.8"
  }
 },
 "nbformat": 4,
 "nbformat_minor": 5
}
